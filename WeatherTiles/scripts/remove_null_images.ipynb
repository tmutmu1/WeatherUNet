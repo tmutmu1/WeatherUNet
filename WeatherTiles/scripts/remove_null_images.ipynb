{
 "cells": [
  {
   "cell_type": "code",
   "execution_count": 8,
   "metadata": {},
   "outputs": [
    {
     "data": {
      "application/vnd.jupyter.widget-view+json": {
       "model_id": "cecc6c5dcae04d33808bff1cb0983148",
       "version_major": 2,
       "version_minor": 0
      },
      "text/plain": [
       "HBox(children=(FloatProgress(value=0.0, description='Images', max=5.0, style=ProgressStyle(description_width='…"
      ]
     },
     "metadata": {},
     "output_type": "display_data"
    },
    {
     "name": "stdout",
     "output_type": "stream",
     "text": [
      "/Users/evansinger/Desktop/GitHub/WeatherUNet/WeatherTiles/scripts/black/4.jpg\n",
      "/Users/evansinger/Desktop/GitHub/WeatherUNet/WeatherTiles/scripts/black/5.jpg\n",
      "/Users/evansinger/Desktop/GitHub/WeatherUNet/WeatherTiles/scripts/black/2.jpg\n",
      "/Users/evansinger/Desktop/GitHub/WeatherUNet/WeatherTiles/scripts/black/3.jpg\n",
      "/Users/evansinger/Desktop/GitHub/WeatherUNet/WeatherTiles/scripts/black/1.jpg\n",
      "\n"
     ]
    }
   ],
   "source": [
    "import os\n",
    "\n",
    "from PIL import Image\n",
    "\n",
    "from tqdm.notebook import trange, tqdm\n",
    "\n",
    "\n",
    "def main():\n",
    "    # path = \"/Users/evansinger/Desktop/GitHub/WeatherUNet/WeatherTiles/scripts/output/cropped/\"\n",
    "    path = \"/Users/evansinger/Desktop/GitHub/WeatherUNet/WeatherTiles/scripts/black/\"\n",
    "    \n",
    "    files= os.listdir(path)\n",
    "    \n",
    "    images = []\n",
    "    files_of_3 = []\n",
    "    for file in files:\n",
    "        if file.endswith(\".jpg\"):\n",
    "            images.append(file)\n",
    "            \n",
    "            \n",
    "    for image_path in tqdm(images, desc='Images'):\n",
    "        input_path = os.path.join(path, image_path)\n",
    "       \n",
    "        try:\n",
    "            image = Image.open(input_path).convert('L')\n",
    "            \n",
    "            pixels = image.getdata()         \n",
    "            black_thresh = 10\n",
    "            nblack = 0\n",
    "            for pixel in pixels:\n",
    "                if pixel < black_thresh:\n",
    "                    nblack += 1\n",
    "            n = len(pixels)\n",
    "\n",
    "            if (nblack / float(n)) > 0.5:\n",
    "                print(input_path)\n",
    "                files_of_3.append(input_path)\n",
    "                \n",
    "            if (nblack / float(n)) < 0.5:\n",
    "                print(input_path)\n",
    "                files_of_3 = []\n",
    "                \n",
    "            if len(files_of_3) == 3:\n",
    "                for x in files_of_3:\n",
    "                    os.remove(x)\n",
    "        except:\n",
    "            files_of_3 = []\n",
    "            \n",
    "    \n",
    "        \n",
    "if __name__ == '__main__':\n",
    "    main()\n",
    "    "
   ]
  },
  {
   "cell_type": "code",
   "execution_count": null,
   "metadata": {},
   "outputs": [],
   "source": []
  }
 ],
 "metadata": {
  "kernelspec": {
   "display_name": "Python 3",
   "language": "python",
   "name": "python3"
  },
  "language_info": {
   "codemirror_mode": {
    "name": "ipython",
    "version": 3
   },
   "file_extension": ".py",
   "mimetype": "text/x-python",
   "name": "python",
   "nbconvert_exporter": "python",
   "pygments_lexer": "ipython3",
   "version": "3.7.6"
  }
 },
 "nbformat": 4,
 "nbformat_minor": 4
}
