{
 "cells": [
  {
   "cell_type": "code",
   "execution_count": 24,
   "metadata": {},
   "outputs": [
    {
     "data": {
      "application/vnd.jupyter.widget-view+json": {
       "model_id": "ee4420fc8e124e059a66a2afbed035cc",
       "version_major": 2,
       "version_minor": 0
      },
      "text/plain": [
       "HBox(children=(FloatProgress(value=0.0, description='Images', max=4.0, style=ProgressStyle(description_width='…"
      ]
     },
     "metadata": {},
     "output_type": "display_data"
    },
    {
     "name": "stdout",
     "output_type": "stream",
     "text": [
      "\n"
     ]
    }
   ],
   "source": [
    "'''\n",
    "So far just removing all black (null) images, will get a pattern on what to remove later\n",
    "'''\n",
    "\n",
    "import os\n",
    "\n",
    "from PIL import Image\n",
    "\n",
    "from tqdm.notebook import trange, tqdm\n",
    "\n",
    "\n",
    "def main():\n",
    "    path = \"/Users/evansinger/Desktop/GitHub/WeatherUNet/WeatherTiles/scripts/output/cropped/\"\n",
    "    \n",
    "    files= os.listdir(path)\n",
    "    \n",
    "    images = []\n",
    "    for file in files:\n",
    "        if file.endswith(\".png\"):\n",
    "            images.append(file)\n",
    "            \n",
    "            \n",
    "    for image_path in tqdm(images, desc='Images'):\n",
    "        input_path = os.path.join(path, image_path)\n",
    "       \n",
    "        try:\n",
    "            image = Image.open(input_path).convert('L')\n",
    "            \n",
    "            pixels = image.getdata()         \n",
    "            black_thresh = 10\n",
    "            nblack = 0\n",
    "            for pixel in pixels:\n",
    "                if pixel < black_thresh:\n",
    "                    nblack += 1\n",
    "            n = len(pixels)\n",
    "\n",
    "            if (nblack / float(n)) > 0.5:\n",
    "                os.remove(input_path)\n",
    "            \n",
    "    \n",
    "        \n",
    "if __name__ == '__main__':\n",
    "    main()\n",
    "    "
   ]
  },
  {
   "cell_type": "code",
   "execution_count": null,
   "metadata": {},
   "outputs": [],
   "source": []
  }
 ],
 "metadata": {
  "kernelspec": {
   "display_name": "Python 3",
   "language": "python",
   "name": "python3"
  },
  "language_info": {
   "codemirror_mode": {
    "name": "ipython",
    "version": 3
   },
   "file_extension": ".py",
   "mimetype": "text/x-python",
   "name": "python",
   "nbconvert_exporter": "python",
   "pygments_lexer": "ipython3",
   "version": "3.7.6"
  }
 },
 "nbformat": 4,
 "nbformat_minor": 4
}
