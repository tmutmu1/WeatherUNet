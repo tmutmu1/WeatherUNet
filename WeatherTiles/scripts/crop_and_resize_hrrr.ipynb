{
 "cells": [
  {
   "cell_type": "code",
   "execution_count": 1,
   "metadata": {},
   "outputs": [],
   "source": [
    "import numpy as np\n",
    "import os\n",
    "import imageio\n",
    "from multiprocessing import Pool\n",
    "import cv2\n",
    "import datetime\n",
    "\n",
    "from matplotlib.pyplot import imshow\n",
    "\n",
    "from PIL import Image\n",
    "\n",
    "from tqdm.notebook import trange, tqdm\n",
    "#fDataset = 'f00'\n",
    "fDataset = 'f01'\n",
    "outPath = \"/home/ubuntuos/WeatherUNet/WeatherTiles/scripts/output/cropped_hrrr/\"+str(fDataset)+\"/\"\n",
    "path = \"/home/ubuntuos/WeatherUNet/WeatherTiles/scripts/output/hrrr/\"+str(fDataset)+\"/\""
   ]
  },
  {
   "cell_type": "code",
   "execution_count": 2,
   "metadata": {},
   "outputs": [
    {
     "data": {
      "application/vnd.jupyter.widget-view+json": {
       "model_id": "10f1c23f1d984204ae9085db5d664aeb",
       "version_major": 2,
       "version_minor": 0
      },
      "text/plain": [
       "HBox(children=(FloatProgress(value=0.0, description='Images', max=466.0, style=ProgressStyle(description_width…"
      ]
     },
     "metadata": {},
     "output_type": "display_data"
    },
    {
     "name": "stdout",
     "output_type": "stream",
     "text": [
      "\n"
     ]
    }
   ],
   "source": [
    "def getUncroppedImages(X, Y):\n",
    "    files= os.listdir(path)\n",
    "    images = []\n",
    "    for file in files:\n",
    "        if file.endswith(\".png\") and not os.path.isfile(os.path.join(outPath, \"(\" + str(X) + \", \" + str(Y) + \")/\", file[:-4]+\"_(\" + str(X) + \", \" + str(Y) + \").png\")) :\n",
    "            images.append(file)\n",
    "    return(images)\n",
    "\n",
    "def cropImages(image_path):\n",
    "    input_path = os.path.join(path, image_path)\n",
    "    try:\n",
    "        image = cv2.imread(input_path, cv2.IMREAD_UNCHANGED)\n",
    "        for i in range(4):\n",
    "            for j in range(4):\n",
    "                cropped = image[0+256*i:256+256*i, 0+256*j:256+256*j]\n",
    "                fullpath = os.path.join(outPath, \"(\"+str(j)+\", \" + str(i) +\")/\", image_path[:-4]+\"_(\"+str(j)+\", \" + str(i) +\").png\")            \n",
    "                imageio.imwrite(fullpath, cropped)\n",
    "    except:\n",
    "        date = datetime.datetime.strptime(image_path, 'CONUS_%Y%m%d-%H0000.png')\n",
    "        name=\"hrrr/\"+str(fDataset)+date.strftime(\"/%Y/%m/%d/\")+\"hrrr.t\"+date.strftime(\"%H\")+\"z.wrfsfc\"+str(fDataset)+\".grib2\"\n",
    "\n",
    "        with open('hrrr_processed_images.txt') as f:\n",
    "            lines = np.array(f.read().splitlines())\n",
    "            index = np.argwhere(lines == str(name))\n",
    "            lines = np.delete(lines, index)\n",
    "            np.savetxt(\"hrrr_processed_images.txt\", lines, fmt='%s')\n",
    "        os.remove(input_path)\n",
    "        \n",
    "if __name__ == '__main__':\n",
    "    images = getUncroppedImages(3, 3)\n",
    "    with Pool() as p:\n",
    "        list(tqdm(p.imap(cropImages, images), desc='Images', total=len(images)))"
   ]
  },
  {
   "cell_type": "code",
   "execution_count": 3,
   "metadata": {},
   "outputs": [
    {
     "data": {
      "application/vnd.jupyter.widget-view+json": {
       "model_id": "eb7788876bbb47c4afe5ca7a4cd37fc0",
       "version_major": 2,
       "version_minor": 0
      },
      "text/plain": [
       "HBox(children=(FloatProgress(value=0.0, description='Images', max=522.0, style=ProgressStyle(description_width…"
      ]
     },
     "metadata": {},
     "output_type": "display_data"
    },
    {
     "name": "stdout",
     "output_type": "stream",
     "text": [
      "\n"
     ]
    }
   ],
   "source": [
    "def getCroppedImages(X=None, Y=None):\n",
    "    files= []\n",
    "    images = []\n",
    "    if not X and not Y:\n",
    "        for i in range(9):\n",
    "            for j in range(9):\n",
    "                files.extend(os.listdir(os.path.join(outPath, \"(\" + str(i) + \", \" + str(j) + \")/\")))\n",
    "    else:\n",
    "        files.extend(os.listdir(os.path.join(outPath, \"(\" + str(X) + \", \" + str(Y) + \")/\")))\n",
    "\n",
    "    for file in files:\n",
    "        if file.endswith(\".png\"):\n",
    "            images.append(file)\n",
    "    return(images)\n",
    "\n",
    "def removeIncompleteImages(image_path):\n",
    "    input_path = os.path.join(outPath + \"(\" + image_path[-6] + \", \" + image_path[-9] + \")/\", image_path)\n",
    "\n",
    "    image = np.array(cv2.imread(input_path, cv2.IMREAD_GRAYSCALE))\n",
    "    if (image.shape != (256, 256)):\n",
    "        os.remove(input_path)\n",
    "        print(input_path)\n",
    "\n",
    "if __name__ == '__main__':\n",
    "    images = getCroppedImages(3,3)\n",
    "    with Pool() as p:\n",
    "        list(tqdm(p.imap(removeIncompleteImages, images), desc='Images', total=len(images)))"
   ]
  }
 ],
 "metadata": {
  "kernelspec": {
   "display_name": "Python 3",
   "language": "python",
   "name": "python3"
  },
  "language_info": {
   "codemirror_mode": {
    "name": "ipython",
    "version": 3
   },
   "file_extension": ".py",
   "mimetype": "text/x-python",
   "name": "python",
   "nbconvert_exporter": "python",
   "pygments_lexer": "ipython3",
   "version": "3.6.9"
  }
 },
 "nbformat": 4,
 "nbformat_minor": 4
}
