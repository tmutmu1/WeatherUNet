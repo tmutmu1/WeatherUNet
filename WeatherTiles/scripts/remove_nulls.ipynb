{
 "cells": [
  {
   "cell_type": "code",
   "execution_count": 6,
   "metadata": {},
   "outputs": [
    {
     "name": "stdout",
     "output_type": "stream",
     "text": [
      "CONUS_20200101-000400_(3, 3).png\n"
     ]
    }
   ],
   "source": [
    "import os\n",
    "\n",
    "from PIL import Image\n",
    "\n",
    "from tqdm.notebook import trange, tqdm\n",
    "import numpy as np\n",
    "\n",
    "\n",
    "def main(X,Y):\n",
    "    #path = \"/Users/evansinger/Desktop/GitHub/WeatherUNet/WeatherTiles/scripts/output/cropped/\" + \"(\"+str(X)+\", \" + str(Y) +\")/\"\n",
    "    path = \"/Users/evansinger/Desktop/GitHub/WeatherUNet/WeatherTiles/scripts/output/cropped/\"\n",
    "    \n",
    "    files = os.listdir(path)\n",
    "    files.sort()\n",
    "    images = []\n",
    "    files_of_3 = []\n",
    "    \n",
    "    for file in files:\n",
    "        if file.endswith(\"(\"+str(X)+\", \"+str(Y)+\").png\"):\n",
    "            images.append(file)\n",
    "\n",
    "    for image_path in tqdm(images, desc='Images'):\n",
    "        input_path = os.path.join(path, image_path)\n",
    "       \n",
    "        try:\n",
    "            image = Image.open(input_path).convert('L')\n",
    "            \n",
    "            pixels = np.array(image.getdata())\n",
    "            black_thresh = 0\n",
    "            \n",
    "            n = len(pixels)\n",
    "\n",
    "            if pixels.max() <= black_thresh:\n",
    "                files_of_3.append(input_path)\n",
    "                \n",
    "            if pixels.max() > black_thresh:\n",
    "                files_of_3 = []\n",
    "                \n",
    "            if len(files_of_3) == 3:\n",
    "                for x in files_of_3:\n",
    "                    os.remove(x)\n",
    "        except:\n",
    "            files_of_3 = []\n",
    "\n",
    "def next(next_path): \n",
    "    # path = \"/Users/evansinger/Desktop/GitHub/WeatherUNet/WeatherTiles/scripts/output/cropped/\" + \"(\"+str(X)+\", \" + str(Y) +\")/\"\n",
    "    path = \"/Users/evansinger/Desktop/GitHub/WeatherUNet/WeatherTiles/scripts/output/cropped/\"\n",
    "    \n",
    "    files = os.listdir(path)\n",
    "    files.sort()\n",
    "    images = []\n",
    "    \n",
    "    counter = 0\n",
    "    \n",
    "    for file in files:\n",
    "        images.append(file)\n",
    "    \n",
    "    print(images[(images.index(next_path) + 1)])\n",
    "    \n",
    "    \n",
    "        \n",
    "if __name__ == '__main__':\n",
    "    # main(3,3)\n",
    "    next('CONUS_20200101-000200_(3, 3).png')\n",
    "    "
   ]
  },
  {
   "cell_type": "code",
   "execution_count": null,
   "metadata": {},
   "outputs": [],
   "source": []
  }
 ],
 "metadata": {
  "kernelspec": {
   "display_name": "Python 3",
   "language": "python",
   "name": "python3"
  },
  "language_info": {
   "codemirror_mode": {
    "name": "ipython",
    "version": 3
   },
   "file_extension": ".py",
   "mimetype": "text/x-python",
   "name": "python",
   "nbconvert_exporter": "python",
   "pygments_lexer": "ipython3",
   "version": "3.7.6"
  }
 },
 "nbformat": 4,
 "nbformat_minor": 4
}
