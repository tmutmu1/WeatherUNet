{
 "cells": [
  {
   "cell_type": "code",
   "execution_count": 54,
   "metadata": {},
   "outputs": [
    {
     "data": {
      "application/vnd.jupyter.widget-view+json": {
       "model_id": "03e8ad63d0d642c596a674227189202b",
       "version_major": 2,
       "version_minor": 0
      },
      "text/plain": [
       "HBox(children=(FloatProgress(value=0.0, description='Images', max=43093.0, style=ProgressStyle(description_wid…"
      ]
     },
     "metadata": {},
     "output_type": "display_data"
    },
    {
     "name": "stdout",
     "output_type": "stream",
     "text": [
      "\n"
     ]
    }
   ],
   "source": [
    "import os\n",
    "import datetime\n",
    "from PIL import Image\n",
    "\n",
    "from tqdm.notebook import trange, tqdm\n",
    "import numpy as np\n",
    "\n",
    "\n",
    "def main(X,Y):\n",
    "    path = \"/home/ubuntuos/WeatherUNet/WeatherTiles/scripts/output/cropped/\" + \"(\"+str(X)+\", \" + str(Y) +\")/\"\n",
    "    \n",
    "    files = os.listdir(path)\n",
    "    files.sort()\n",
    "    images = []\n",
    "    files_of_3 = []\n",
    "    \n",
    "    for file in files:\n",
    "        if file.endswith(\"(\"+str(X)+\", \"+str(Y)+\").png\"):\n",
    "            images.append(file)\n",
    "\n",
    "    for image_path in tqdm(images, desc='Images'):\n",
    "        input_path = os.path.join(path, image_path)\n",
    "       \n",
    "        try:\n",
    "            image = Image.open(input_path).convert('L')\n",
    "            \n",
    "            pixels = np.array(image.getdata())\n",
    "            black_thresh = 0\n",
    "            \n",
    "            n = len(pixels)\n",
    "\n",
    "            if pixels.max() <= black_thresh:\n",
    "                files_of_3.append(input_path)\n",
    "                \n",
    "            if pixels.max() > black_thresh:\n",
    "                files_of_3 = []\n",
    "                \n",
    "            if len(files_of_3) == 3:\n",
    "                for x in files_of_3:\n",
    "                    os.remove(x)\n",
    "        except:\n",
    "            files_of_3 = []\n",
    "\n",
    "def getNextImageName(path): #moved into SimDataset\n",
    "    dateStartIndex = path.find(\"_\")+1\n",
    "    year = path[dateStartIndex:dateStartIndex+4]\n",
    "    month = path[dateStartIndex+4:dateStartIndex+6]\n",
    "    day = path[dateStartIndex+6:dateStartIndex+8]\n",
    "    \n",
    "    timeStartIndex = path.find(\"-\")+1\n",
    "    hour=path[timeStartIndex:timeStartIndex+2]\n",
    "    minute=path[timeStartIndex+2:timeStartIndex+4]\n",
    "    \n",
    "    inputImageTime = datetime.datetime(int(year), int(month), int(day), int(hour), int(minute))\n",
    "    timeInterval = datetime.timedelta(minutes=2)\n",
    "    outputImageTime = inputImageTime+timeInterval\n",
    "    outputImageTime.strftime(\"%Y%m%d-%H%M00\")\n",
    "    outputPath = \"CONUS_\" + str(outputImageTime.strftime(\"%Y%m%d-%H%M\")) +path[timeStartIndex+4:]\n",
    "    return(outputPath)\n",
    "if __name__ == '__main__':\n",
    "    main(8,8)\n",
    "    "
   ]
  },
  {
   "cell_type": "code",
   "execution_count": 55,
   "metadata": {},
   "outputs": [
    {
     "data": {
      "text/plain": [
       "43093"
      ]
     },
     "execution_count": 55,
     "metadata": {},
     "output_type": "execute_result"
    }
   ],
   "source": [
    "43093"
   ]
  },
  {
   "cell_type": "code",
   "execution_count": 60,
   "metadata": {},
   "outputs": [
    {
     "name": "stdout",
     "output_type": "stream",
     "text": [
      "42844\n"
     ]
    }
   ],
   "source": [
    "files = os.listdir(\"/home/ubuntuos/WeatherUNet/WeatherTiles/scripts/output/cropped/\" + \"(\"+str(8)+\", \" + str(8) +\")/\")\n",
    "images = []\n",
    "for file in files:\n",
    "        if file.endswith(\"(\"+str(8)+\", \"+str(8)+\").png\"):\n",
    "            images.append(file)\n",
    "print(len(images))"
   ]
  }
 ],
 "metadata": {
  "kernelspec": {
   "display_name": "Python 3",
   "language": "python",
   "name": "python3"
  },
  "language_info": {
   "codemirror_mode": {
    "name": "ipython",
    "version": 3
   },
   "file_extension": ".py",
   "mimetype": "text/x-python",
   "name": "python",
   "nbconvert_exporter": "python",
   "pygments_lexer": "ipython3",
   "version": "3.6.9"
  }
 },
 "nbformat": 4,
 "nbformat_minor": 4
}
