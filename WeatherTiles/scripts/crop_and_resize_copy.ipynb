{
 "cells": [
  {
   "cell_type": "code",
   "execution_count": 5,
   "metadata": {},
   "outputs": [
    {
     "data": {
      "application/vnd.jupyter.widget-view+json": {
       "model_id": "0d8fa29181eb47e290283bea4a2feadd",
       "version_major": 2,
       "version_minor": 0
      },
      "text/plain": [
       "HBox(children=(FloatProgress(value=0.0, description='Images', max=29.0, style=ProgressStyle(description_width=…"
      ]
     },
     "metadata": {},
     "output_type": "display_data"
    },
    {
     "name": "stdout",
     "output_type": "stream",
     "text": [
      "\n"
     ]
    }
   ],
   "source": [
    "import numpy as np\n",
    "import os\n",
    "import imageio\n",
    "\n",
    "from matplotlib.pyplot import imshow\n",
    "\n",
    "from PIL import Image\n",
    "\n",
    "from tqdm.notebook import trange, tqdm\n",
    "\n",
    "\n",
    "def main():\n",
    "    outPath = \"/Users/evansinger/Desktop/GitHub/WeatherUNet/WeatherTiles/scripts/output/cropped/\"\n",
    "    path = \"/Users/evansinger/Desktop/GitHub/WeatherUNet/WeatherTiles/scripts/output/conus/\"\n",
    "   \n",
    "    files= os.listdir(path)\n",
    "    images = []\n",
    "    for file in files:\n",
    "        if file.endswith(\".png\") and not os.path.isfile(os.path.join(outPath, file[:-4]+\"_(8, 8).png\")) :\n",
    "            images.append(file)\n",
    "\n",
    "    for image_path in tqdm(images, desc='Images'):\n",
    "        input_path = os.path.join(path, image_path)\n",
    "       \n",
    "        try:\n",
    "            image = Image.open(input_path)\n",
    "            #for i in trange(9, desc='Y', leave = False):\n",
    "                #for j in trange(9, desc='X', leave = False):\n",
    "            if True:\n",
    "                if True:\n",
    "                    i = 3\n",
    "                    j = 3\n",
    "                    box = (0+256*j, 0+256*i, 256+256*j, 256+256*i)\n",
    "            #box = (0,0,255,255)\n",
    "                    cropped = image.crop(box)\n",
    "            #fullpath = os.path.join(outPath, image_path)\n",
    "                    fullpath = os.path.join(outPath, image_path[:-4]+\"_(\"+str(j)+\", \" + str(i) +\").png\")            \n",
    "                    imageio.imwrite(fullpath, cropped)\n",
    "        except:\n",
    "            os.remove(input_path)\n",
    "if __name__ == '__main__':\n",
    "    main()"
   ]
  },
  {
   "cell_type": "code",
   "execution_count": null,
   "metadata": {},
   "outputs": [],
   "source": []
  }
 ],
 "metadata": {
  "kernelspec": {
   "display_name": "Python 3",
   "language": "python",
   "name": "python3"
  },
  "language_info": {
   "codemirror_mode": {
    "name": "ipython",
    "version": 3
   },
   "file_extension": ".py",
   "mimetype": "text/x-python",
   "name": "python",
   "nbconvert_exporter": "python",
   "pygments_lexer": "ipython3",
   "version": "3.7.6"
  }
 },
 "nbformat": 4,
 "nbformat_minor": 4
}
