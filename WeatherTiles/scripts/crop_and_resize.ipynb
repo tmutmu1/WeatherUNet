{
 "cells": [
  {
   "cell_type": "code",
   "execution_count": 1,
   "metadata": {},
   "outputs": [
    {
     "data": {
      "application/vnd.jupyter.widget-view+json": {
       "model_id": "5e4f19aa99a14e41806cd9b4e975fbe2",
       "version_major": 2,
       "version_minor": 0
      },
      "text/plain": [
       "HBox(children=(FloatProgress(value=1.0, bar_style='info', description='Images', max=1.0, style=ProgressStyle(d…"
      ]
     },
     "metadata": {},
     "output_type": "display_data"
    },
    {
     "name": "stdout",
     "output_type": "stream",
     "text": [
      "\n"
     ]
    }
   ],
   "source": [
    "import numpy as np\n",
    "import os\n",
    "import imageio\n",
    "\n",
    "from matplotlib.pyplot import imshow\n",
    "\n",
    "from PIL import Image\n",
    "\n",
    "from tqdm.notebook import trange, tqdm\n",
    "\n",
    "\n",
    "def main():\n",
    "    outPath = \"/home/ubuntuos/WeatherUNet/WeatherTiles/scripts/output/cropped/\"\n",
    "    path = \"/home/ubuntuos/WeatherUNet/WeatherTiles/scripts/output/conus/\"\n",
    "   \n",
    "    files= os.listdir(path)\n",
    "    images = []\n",
    "    for file in files:\n",
    "        if file.endswith(\".png\") and not os.path.isfile(os.path.join(outPath, \"(8, 8)/\", file[:-4]+\"_(8, 8).png\")) :\n",
    "            images.append(file)\n",
    "\n",
    "    for image_path in tqdm(images, desc='Images'):\n",
    "        input_path = os.path.join(path, image_path)\n",
    "       \n",
    "        try:\n",
    "            image = Image.open(input_path)\n",
    "            for i in trange(9, desc='Y', leave = False):\n",
    "                for j in trange(9, desc='X', leave = False):\n",
    "                    box = (0+256*j, 0+256*i, 256+256*j, 256+256*i)\n",
    "                    #box = (0+224*j, 0+224*i, 224+224*j, 224+224*i)\n",
    "            #box = (0,0,255,255)\n",
    "                    cropped = image.crop(box)\n",
    "            #fullpath = os.path.join(outPath, image_path)\n",
    "                    fullpath = os.path.join(outPath, \"(\"+str(j)+\", \" + str(i) +\")/\", image_path[:-4]+\"_(\"+str(j)+\", \" + str(i) +\").png\")            \n",
    "                    imageio.imwrite(fullpath, cropped)\n",
    "        except:\n",
    "            os.remove(input_path)\n",
    "if __name__ == '__main__':\n",
    "    main()"
   ]
  },
  {
   "cell_type": "markdown",
   "metadata": {},
   "source": [
    "Make sure to run ./process_year and this loop one more time"
   ]
  },
  {
   "cell_type": "code",
   "execution_count": null,
   "metadata": {},
   "outputs": [],
   "source": []
  }
 ],
 "metadata": {
  "kernelspec": {
   "display_name": "Python 3",
   "language": "python",
   "name": "python3"
  },
  "language_info": {
   "codemirror_mode": {
    "name": "ipython",
    "version": 3
   },
   "file_extension": ".py",
   "mimetype": "text/x-python",
   "name": "python",
   "nbconvert_exporter": "python",
   "pygments_lexer": "ipython3",
   "version": "3.6.9"
  }
 },
 "nbformat": 4,
 "nbformat_minor": 4
}
