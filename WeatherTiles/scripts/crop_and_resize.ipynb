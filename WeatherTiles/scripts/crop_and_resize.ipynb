{
 "cells": [
  {
   "cell_type": "code",
   "execution_count": null,
   "metadata": {},
   "outputs": [],
   "source": [
    "import numpy as np\n",
    "import os\n",
    "import imageio\n",
    "from multiprocessing import Pool\n",
    "import cv2\n",
    "\n",
    "from matplotlib.pyplot import imshow\n",
    "\n",
    "from PIL import Image\n",
    "\n",
    "from tqdm.notebook import trange, tqdm\n",
    "\n",
    "outPath = \"/home/ubuntuos/WeatherUNet/WeatherTiles/scripts/output/cropped/\"\n",
    "path = \"/home/ubuntuos/WeatherUNet/WeatherTiles/scripts/output/conus/\""
   ]
  },
  {
   "cell_type": "code",
   "execution_count": null,
   "metadata": {},
   "outputs": [],
   "source": [
    "def getUncroppedImages(X, Y):\n",
    "    files= os.listdir(path)\n",
    "    images = []\n",
    "    for file in files:\n",
    "        if file.endswith(\".png\") and not os.path.isfile(os.path.join(outPath, \"(\" + str(X) + \", \" + str(Y) + \")/\", file[:-4]+\"_(\" + str(X) + \", \" + str(Y) + \").png\")) :\n",
    "            images.append(file)\n",
    "    return(images)\n",
    "\n",
    "def cropImages(image_path):\n",
    "    #for image_path in tqdm(images, desc='Images'):\n",
    "    input_path = os.path.join(path, image_path)\n",
    "    try:\n",
    "        image = Image.open(input_path)\n",
    "        #for i in trange(9, desc='Y', leave = False):\n",
    "        for i in range(9):\n",
    "            #for j in trange(9, desc='X', leave = False):\n",
    "            for j in range(9):\n",
    "                box = (0+256*j, 0+256*i, 256+256*j, 256+256*i)\n",
    "                cropped = image.crop(box)\n",
    "                fullpath = os.path.join(outPath, \"(\"+str(j)+\", \" + str(i) +\")/\", image_path[:-4]+\"_(\"+str(j)+\", \" + str(i) +\").png\")            \n",
    "                imageio.imwrite(fullpath, cropped)\n",
    "    except:\n",
    "        os.remove(input_path)\n",
    "        \n",
    "if __name__ == '__main__':\n",
    "    images = getUncroppedImages(8, 8)\n",
    "    with Pool() as p:\n",
    "        list(tqdm(p.imap(cropImages, images), desc='Images', total=len(images)))"
   ]
  },
  {
   "cell_type": "code",
   "execution_count": null,
   "metadata": {},
   "outputs": [],
   "source": [
    "def getCroppedImages(X=None, Y=None):\n",
    "    files= []\n",
    "    images = []\n",
    "    if not X and not Y:\n",
    "        for i in range(9):\n",
    "            for j in range(9):\n",
    "                files.extend(os.listdir(os.path.join(outPath, \"(\" + str(i) + \", \" + str(j) + \")/\")))\n",
    "    else:\n",
    "        files.extend(os.listdir(os.path.join(outPath, \"(\" + str(X) + \", \" + str(Y) + \")/\")))\n",
    "\n",
    "    for file in files:\n",
    "        if file.endswith(\".png\"):\n",
    "            images.append(file)\n",
    "    return(images)\n",
    "\n",
    "def removeIncompleteImages(image_path):\n",
    "    input_path = os.path.join(outPath + \"(\" + image_path[-6] + \", \" + image_path[-9] + \")/\", image_path)\n",
    "\n",
    "    image = np.array(cv2.imread(input_path, cv2.IMREAD_GRAYSCALE))\n",
    "    if (image.shape != (256, 256)):\n",
    "        os.remove(input_path)\n",
    "        print(input_path)\n",
    "\n",
    "if __name__ == '__main__':\n",
    "    images = getCroppedImages(3,3)\n",
    "    with Pool() as p:\n",
    "        list(tqdm(p.imap(removeIncompleteImages, images), desc='Images', total=len(images)))"
   ]
  },
  {
   "cell_type": "code",
   "execution_count": null,
   "metadata": {},
   "outputs": [],
   "source": []
  }
 ],
 "metadata": {
  "kernelspec": {
   "display_name": "Python 3",
   "language": "python",
   "name": "python3"
  },
  "language_info": {
   "codemirror_mode": {
    "name": "ipython",
    "version": 3
   },
   "file_extension": ".py",
   "mimetype": "text/x-python",
   "name": "python",
   "nbconvert_exporter": "python",
   "pygments_lexer": "ipython3",
   "version": "3.6.9"
  }
 },
 "nbformat": 4,
 "nbformat_minor": 4
}
